{
 "cells": [
  {
   "cell_type": "code",
   "execution_count": 2,
   "metadata": {},
   "outputs": [
    {
     "name": "stdout",
     "output_type": "stream",
     "text": [
      "\n",
      "Full Dataset:\n",
      "\n",
      "Mean Absolute Error: 0.42887499999999995\n",
      "\n",
      "\n",
      "Dataset for PCA- 1 feature:\n",
      "\n",
      "Mean Absolute Error: 0.690475\n",
      "\n",
      "\n",
      "Dataset for PCA- 2 features:\n",
      "\n",
      "Mean Absolute Error: 0.6421000000000001\n",
      "\n",
      "\n",
      "Dataset for PCA- 4 features:\n",
      "\n",
      "Mean Absolute Error: 0.639125\n",
      "\n",
      "\n",
      "Dataset after removing columns with low correlation:\n",
      "\n",
      "Mean Absolute Error: 0.481175\n",
      "\n",
      "\n",
      "Dataset after removing randomly high correlated columns:\n",
      "\n",
      "Mean Absolute Error: 0.4756\n",
      "\n"
     ]
    }
   ],
   "source": [
    "# Importing functions from the utils.py file\n",
    "from utils import train_all_models\n",
    "\n",
    "# Loading data from the CSV file\n",
    "import pandas as pd\n",
    "df = pd.read_csv(\"winequality-red.csv\", sep=\";\")\n",
    "\n",
    "# Calling the train_all_models function from the utils.py file\n",
    "target_column = \"quality\"\n",
    "train_all_models(df, target_column)"
   ]
  }
 ],
 "metadata": {
  "kernelspec": {
   "display_name": "Python 3",
   "language": "python",
   "name": "python3"
  },
  "language_info": {
   "codemirror_mode": {
    "name": "ipython",
    "version": 3
   },
   "file_extension": ".py",
   "mimetype": "text/x-python",
   "name": "python",
   "nbconvert_exporter": "python",
   "pygments_lexer": "ipython3",
   "version": "3.10.0"
  }
 },
 "nbformat": 4,
 "nbformat_minor": 2
}
